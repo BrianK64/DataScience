{
 "cells": [
  {
   "cell_type": "markdown",
   "id": "bc4f5d53-1be2-4d6d-b511-2d75fe7f65e1",
   "metadata": {},
   "source": [
    "# Data Science Tools and Ecosystem"
   ]
  },
  {
   "cell_type": "markdown",
   "id": "2a0fbabb-f1f0-4ac7-a432-876162eda230",
   "metadata": {},
   "source": [
    "In this notebook, Data Science Tools are Ecosystem are summarized."
   ]
  },
  {
   "cell_type": "markdown",
   "id": "02e86f3d-edd2-4d91-a902-f45acb3df742",
   "metadata": {},
   "source": [
    "**Objectives:**\n",
    "- List popular languages for Data Science\n",
    "- List popular libraries for Data Science\n",
    "- List popular development enviroment open source tools for Data Science\n",
    "- Execute simple arithmetic\n",
    "- Conver 200 minutes to hours"
   ]
  },
  {
   "cell_type": "markdown",
   "id": "a94b135a-5622-4c31-be4c-a08965c92aea",
   "metadata": {},
   "source": [
    "Some of the popular languages that Data Scientists use are:\r\n",
    "1. Python\r\n",
    "2. R\r\n",
    "3. SQL"
   ]
  },
  {
   "cell_type": "markdown",
   "id": "58704d39-198f-4e17-995f-3517c67e7cbd",
   "metadata": {},
   "source": [
    "Some of the commonly used libraries used by Data Scientists include:\r\n",
    "1. NumPy\r\n",
    "2. Panda\r\n",
    "3. SciPy\r\n",
    "4. Matplotlib\r\n",
    "5. TensorFlow"
   ]
  },
  {
   "cell_type": "markdown",
   "id": "a4f7344e-39cd-49fc-b4ec-bd3cf71d3d08",
   "metadata": {},
   "source": [
    "|Data Science Tools|\r\n",
    "|------------------|\r\n",
    "|Jupyter Notebook|\r\n",
    "|RStudio|\r\n",
    "|Google Colab|"
   ]
  },
  {
   "cell_type": "markdown",
   "id": "afbd8e2d-164d-46f1-a580-9a33ae63555b",
   "metadata": {},
   "source": [
    "### Below are a few examples of evaluating arithmetic expressions in Python"
   ]
  },
  {
   "cell_type": "code",
   "execution_count": 2,
   "id": "d12c9346-9b77-4467-b46d-7cdd133c79c2",
   "metadata": {},
   "outputs": [
    {
     "data": {
      "text/plain": [
       "17"
      ]
     },
     "execution_count": 2,
     "metadata": {},
     "output_type": "execute_result"
    }
   ],
   "source": [
    "# This is a simple arithmetic expression to multiply then add integers\n",
    "\n",
    "(3*4)+5"
   ]
  },
  {
   "cell_type": "code",
   "execution_count": 1,
   "id": "6d4e39ca-d6cd-429b-b3c4-27288a671861",
   "metadata": {},
   "outputs": [
    {
     "data": {
      "text/plain": [
       "3.33"
      ]
     },
     "execution_count": 1,
     "metadata": {},
     "output_type": "execute_result"
    }
   ],
   "source": [
    "# This will convert 200 minutes to hours by dividing by 60\n",
    "\n",
    "round(200/60, 2)"
   ]
  },
  {
   "cell_type": "markdown",
   "id": "c1791e4c-e2c6-416d-9f82-b91a01acd96c",
   "metadata": {
    "jp-MarkdownHeadingCollapsed": true
   },
   "source": [
    "## Author\n",
    "Minseok Kim"
   ]
  }
 ],
 "metadata": {
  "kernelspec": {
   "display_name": "Python 3 (ipykernel)",
   "language": "python",
   "name": "python3"
  },
  "language_info": {
   "codemirror_mode": {
    "name": "ipython",
    "version": 3
   },
   "file_extension": ".py",
   "mimetype": "text/x-python",
   "name": "python",
   "nbconvert_exporter": "python",
   "pygments_lexer": "ipython3",
   "version": "3.11.7"
  }
 },
 "nbformat": 4,
 "nbformat_minor": 5
}
